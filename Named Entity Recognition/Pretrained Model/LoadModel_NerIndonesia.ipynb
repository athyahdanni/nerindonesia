{
  "nbformat": 4,
  "nbformat_minor": 0,
  "metadata": {
    "colab": {
      "name": "LoadModel_NerIndonesia",
      "provenance": []
    },
    "kernelspec": {
      "name": "python3",
      "display_name": "Python 3"
    }
  },
  "cells": [
    {
      "cell_type": "code",
      "metadata": {
        "id": "HsDVLtQprHgs"
      },
      "source": [
        "import anago"
      ],
      "execution_count": null,
      "outputs": []
    },
    {
      "cell_type": "code",
      "metadata": {
        "id": "RGAtL4ezq2tf"
      },
      "source": [
        "hasil=anago.Sequence.load('weights.h5','params.json','preprocessor.pkl')\r\n",
        "text='Masukkan teks yang ingin dianalisa'\r\n",
        "output=hasil.analyze(text)"
      ],
      "execution_count": null,
      "outputs": []
    }
  ]
}