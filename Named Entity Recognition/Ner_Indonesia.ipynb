{
  "nbformat": 4,
  "nbformat_minor": 0,
  "metadata": {
    "colab": {
      "name": "Ner Indonesia",
      "provenance": []
    },
    "kernelspec": {
      "name": "python3",
      "display_name": "Python 3"
    }
  },
  "cells": [
    {
      "cell_type": "code",
      "metadata": {
        "id": "R8tuxwLSgYhQ"
      },
      "source": [
        "import anago\r\n",
        "from anago.utils import load_data_and_labels\r\n",
        "from sklearn import model_selection"
      ],
      "execution_count": null,
      "outputs": []
    },
    {
      "cell_type": "markdown",
      "metadata": {
        "id": "NwE96v5Io_XZ"
      },
      "source": [
        "Load data training, x merupakan kata dan y merupakan label"
      ]
    },
    {
      "cell_type": "code",
      "metadata": {
        "id": "y6G3zeXro4yv"
      },
      "source": [
        "x,y = load_data_and_labels('DATA_TRAIN_21DES.tsv')"
      ],
      "execution_count": null,
      "outputs": []
    },
    {
      "cell_type": "markdown",
      "metadata": {
        "id": "8iONU_uhpNAT"
      },
      "source": [
        "Proses ini bertujuan untuk mendapatkan data training dan juga data testing. Untuk merubah perbandingan banyaknya data training dan testing, dapat dirubah di parameter 'test_size'"
      ]
    },
    {
      "cell_type": "code",
      "metadata": {
        "id": "fxL3JDabpI1O"
      },
      "source": [
        "Train_x,Test_x,Train_y,Test_y=model_selection.train_test_split(x,y,test_size=0.3,random_state=42)"
      ],
      "execution_count": null,
      "outputs": []
    },
    {
      "cell_type": "markdown",
      "metadata": {
        "id": "C39FQEahqHv4"
      },
      "source": [
        "Untuk melakukan training data, jumlah iterasi/epoch dapat disesuaikan dengan kebutuhan"
      ]
    },
    {
      "cell_type": "code",
      "metadata": {
        "id": "PH_esIN3pwRq"
      },
      "source": [
        "model=anago.Sequence(dropout=0.5,optimizer='adam')\r\n",
        "model.fit(Train_x,Train_y,x_valid=Test_x,y_valid=Test_y,epochs=10)"
      ],
      "execution_count": null,
      "outputs": []
    },
    {
      "cell_type": "code",
      "metadata": {
        "id": "Xb0yvdJHqJTu"
      },
      "source": [
        "model.analyze('''\r\n",
        "kalimat yang ingin di analisa\r\n",
        "''')"
      ],
      "execution_count": null,
      "outputs": []
    },
    {
      "cell_type": "markdown",
      "metadata": {
        "id": "5f4BaJCcqc6C"
      },
      "source": [
        "Untuk menyimpan model hasil training, akan disimpan ke dalam 3 file sebagai berikut:"
      ]
    },
    {
      "cell_type": "code",
      "metadata": {
        "id": "Qn_iHWz6qjHm"
      },
      "source": [
        "model.save(weights_file='weights.h5',params_file='params.json',preprocessor_file='preprocessor.pkl')"
      ],
      "execution_count": null,
      "outputs": []
    }
  ]
}